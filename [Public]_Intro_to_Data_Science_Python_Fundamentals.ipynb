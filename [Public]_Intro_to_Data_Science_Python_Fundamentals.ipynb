{
  "nbformat": 4,
  "nbformat_minor": 0,
  "metadata": {
    "colab": {
      "name": "[Public] Intro to Data Science: Python Fundamentals",
      "provenance": [],
      "collapsed_sections": []
    },
    "kernelspec": {
      "name": "python3",
      "display_name": "Python 3"
    }
  },
  "cells": [
    {
      "cell_type": "markdown",
      "metadata": {
        "id": "WnOxQJWfzGg6"
      },
      "source": [
        "# Intro to Python: Fundamentals\n",
        "\n",
        "- **Throughout** this notebook we will be exploring base Python concepts and applying them in small practice problems.\n",
        "- Anytime you see a line surrounded by triple asterisks, `***LIKE THIS***`, that is a line of code that you will need to replace or edit.\n",
        "- Have fun and good luck coding!"
      ]
    },
    {
      "cell_type": "markdown",
      "metadata": {
        "id": "G5lroUmBm77G"
      },
      "source": [
        "> To execute a line or block of code, simply click the \"Play\" button on the left side or use the keyboard shortcut \"Shift + Enter\"\n",
        "> When that code block has actually been executed, the blank brackets will change to have a number inside of them."
      ]
    },
    {
      "cell_type": "code",
      "metadata": {
        "id": "oW5-mMzgm85H",
        "outputId": "1277cc8c-d491-4596-9807-601fca90093c",
        "colab": {
          "base_uri": "https://localhost:8080/"
        }
      },
      "source": [
        "print('Hello, World!')"
      ],
      "execution_count": 1,
      "outputs": [
        {
          "output_type": "stream",
          "text": [
            "Hello, World!\n"
          ],
          "name": "stdout"
        }
      ]
    },
    {
      "cell_type": "markdown",
      "metadata": {
        "id": "srpcy_IqKiCN"
      },
      "source": [
        "> The Zen of Python is a collection of 19 \"guiding principles\" for writing computer programs that influence the design of the Python programming language. Software engineer Tim Peters wrote this set of principles and posted it on the Python mailing list in 1999."
      ]
    },
    {
      "cell_type": "code",
      "metadata": {
        "id": "AQ4FEDbHJybj"
      },
      "source": [
        "import this"
      ],
      "execution_count": null,
      "outputs": []
    },
    {
      "cell_type": "markdown",
      "metadata": {
        "id": "IG1IfzqLQoP0"
      },
      "source": [
        "## Variables, Assignment Statements, Operators, and Operands\n",
        "\n",
        "Throughout this Notebook, you will see **Assignment Statements**. These allow us to create [**Abstaction**](https://www.youtube.com/watch?v=ZOYRb2sYrL0) and hide complexity away into something more simple to perceive. **Operators** and **Operands** are the components of an **Assignment Statement**.\n",
        "\n",
        "**Operators** are symbols that represent some operation, like Addition (`+`), Subtraction (`-`), etc. The **Equal Sign** (`=`) is the **Assignment Operator** in Python and has a different use than the Equal Sign in Math.\n",
        "\n",
        "**Operands** are the objects that the operator is acting on.\n",
        "\n",
        "For Example: `1 + 2`\n",
        "\n",
        "`1` and `2` are the **Operands** and `+` is the **Operator**.\n",
        "\n",
        "In the **Assignment Statement**, the **Operator** is the Equal Sign (`=`), and the **Operands** are the **Variable** (always on the left) and the **Value** (always on the right)."
      ]
    },
    {
      "cell_type": "markdown",
      "metadata": {
        "id": "r8rtHeNBzNtr"
      },
      "source": [
        "### Variables\n",
        "- **Variables** are reserved memory locations to store values. This means that when you create a variable (by using the ''`=`'' assignment operator) you reserve some space in memory for that particular piece of information.\n",
        "- The **Data Type** of a variable will dictate what kinds of manipulations we can do with it.\n",
        "- When naming our variables, we want to be concise but give some indication about their information or structure."
      ]
    },
    {
      "cell_type": "code",
      "metadata": {
        "id": "yD-UzLmzW_SV"
      },
      "source": [
        "# Variables and Object Types\n",
        "student = 'Plato' # strings and their rules\n",
        "gradeYear = 12 # camelCase and ints\n",
        "gpa = 3.5 # snake_case and floats\n",
        "graduating = True # boolean\n",
        "disciplinary = None # None type"
      ],
      "execution_count": null,
      "outputs": []
    },
    {
      "cell_type": "markdown",
      "metadata": {
        "id": "1ALkgd-kNrtk"
      },
      "source": [
        "## Printing\n",
        "\n",
        "Just like we saw in the first code block, we can pass **arguments** to the `print()` statement. In our first example, we passed a **string** directly as an argument. In the following example, we will pass each of the above **variables** to the `print()` statement as an **argument**, and `print()` will automatically `evaluate` that **variable** and print it to the **inline-terminal**."
      ]
    },
    {
      "cell_type": "code",
      "metadata": {
        "id": "oVbGBpfyNIie"
      },
      "source": [
        "# Print each variable on its own line\n",
        "print(student)\n",
        "print(gradeYear)\n",
        "print(gpa)\n",
        "print(graduating)\n",
        "print(disciplinary)"
      ],
      "execution_count": null,
      "outputs": []
    },
    {
      "cell_type": "markdown",
      "metadata": {
        "id": "ueKrGsJWORTY"
      },
      "source": [
        "We can pass multiple arguments to a `print()` statement, which can help us keep track of what values we are printing. You will separate each argument you pass with a **comma** `,`. Python automatically knows to add a **space** (` `) between the values of the arguments being printed out."
      ]
    },
    {
      "cell_type": "code",
      "metadata": {
        "id": "d2IaLx4cNVrG"
      },
      "source": [
        "print('Student:', student)\n",
        "print('Grade:', gradeYear)\n",
        "print('GPA:', gpa)\n",
        "print('Graduating:', graduating)\n",
        "print('Disciplinary:', disciplinary)"
      ],
      "execution_count": null,
      "outputs": []
    },
    {
      "cell_type": "markdown",
      "metadata": {
        "id": "IU9EcOKsMsnv"
      },
      "source": [
        "## Strings\n",
        "\n",
        "Strings are useful for representing text data. There are a few rules about how to construct strings in Python. Below we will demonstrate some of the rules related to **Single**, **Double**, and **Triple Quote**s, as well as **Escape Characters**.\n",
        "\n",
        "**Single** and **Double Quoted Strings** (`'`, `\"`) must start and end on the same line they are declared.\n",
        "\n",
        "**Triple Quoted Strings** (`'''`, `\"\"\"`) can span multiple lines.\n",
        "\n",
        "All strings must start and end with the same type of quote (`'`, `\"`, `'''`, `\"\"\"`)"
      ]
    },
    {
      "cell_type": "code",
      "metadata": {
        "id": "qK0EVnrcZ3kA"
      },
      "source": [
        "single_quote = 'This sentence is a quote.'\n",
        "double_quote = \"This sentence is also a quote, but with double-quotes.\"\n",
        "apostrophe_quote = \"This quote's apostrophe is inside of double-quotes.\"\n",
        "inception_quote = \"Escape characters are how you \\\"escape\\\" double-quotes inside double-quotes.\"\n",
        "\n",
        "quoteastrophe = '''\n",
        "I'm going to put whatever \"quotes\" I want and it won't matter.\n",
        "The triple quotes (single or double) will create a string literal.\n",
        "It can span multiple lines, and the rules for quotes and double quotes get\n",
        "much easier. They are also used for docstrings inside a Python Data Structure\n",
        "called Classes.\n",
        "'''"
      ],
      "execution_count": null,
      "outputs": []
    },
    {
      "cell_type": "markdown",
      "metadata": {
        "id": "KWFMOmEpPzvx"
      },
      "source": [
        "#### String Operators\n",
        "\n",
        "Strings are collections of **Characters** in Python. These are individual letters and symbols that exist as strings.\n",
        "\n",
        "**Concatination** allows you to append strings together and can be done with the **Concatination Operator** (`+`). This operator also serves as the **Addition Operator** if your operands are *Numbers* (`ints`, `floats`) or **Booleans** (`True`, `False`)\n",
        "\n",
        "**Multiplying Strings** (`*`) allows you to do compound concatination. This means that it will concatinate that string repeatedly based on the number you are multiplying it by\n",
        "\n",
        "You can also **Index** into a string using the format `variable[0]` to get a specific character at the given index, or `variable[0:1]` to get a range. The range will include the first `int` and **up-to, but not including** the second `int`."
      ]
    },
    {
      "cell_type": "code",
      "metadata": {
        "id": "i5BW-KO9Vafl"
      },
      "source": [
        "# Operators \n",
        "print('Example:', single_quote)\n",
        "print('Addition:', single_quote + single_quote) # Note the output\n",
        "print('Multiplication:', single_quote * 3)\n",
        "\n",
        "# Indexing\n",
        "print('Oth Index:', single_quote[0])\n",
        "print('Last Index:', single_quote[-1])\n",
        "print('Range Index:', single_quote[0:-1])\n",
        "print('Length of String:', str(len(quoteastrophe)))"
      ],
      "execution_count": null,
      "outputs": []
    },
    {
      "cell_type": "markdown",
      "metadata": {
        "id": "gVyOl_-5Ula5"
      },
      "source": [
        "#### String Specific Methods\n",
        "- If we have a string, there are some specific methods that we can use to manipulate it.\n",
        "- We'll take a look at some ways we can manipulate strings below.\n",
        "- For a more comprehensive list, check out this [documentation](https://www.programiz.com/python-programming/methods/string)."
      ]
    },
    {
      "cell_type": "code",
      "metadata": {
        "id": "d-_7uY9tM1nh"
      },
      "source": [
        "# We can make a string all lower case or upper case\n",
        "print(single_quote.lower(), single_quote.upper())"
      ],
      "execution_count": null,
      "outputs": []
    },
    {
      "cell_type": "code",
      "metadata": {
        "id": "-oS4L5n2M1va"
      },
      "source": [
        "# We can split strings on certain characters\n",
        "# This will take a string as an input and return a list of strings\n",
        "double_quote.split()"
      ],
      "execution_count": null,
      "outputs": []
    },
    {
      "cell_type": "code",
      "metadata": {
        "id": "Y2FcduURM3vg"
      },
      "source": [
        "# Or replace specific characters\n",
        "apostrophe_quote.replace('o', '?')"
      ],
      "execution_count": null,
      "outputs": []
    },
    {
      "cell_type": "markdown",
      "metadata": {
        "id": "QpK8SJqmTfIP"
      },
      "source": [
        "Note that this does not actually affect the **value** stored in the **variable**, it simple displays the change. If you'd like to update the **value** of a **variable**, you must **reassign** the **variable**."
      ]
    },
    {
      "cell_type": "code",
      "metadata": {
        "id": "xHNnepJ6T3Oi"
      },
      "source": [
        "# Reassigning the value for these variables to reflect the changes\n",
        "print(double_quote)  #printing before we reassign\n",
        "double_quote = double_quote.split()\n",
        "print(double_quote)  #printing after we reassign\n",
        "\n",
        "print(apostrophe_quote) #printing before we reassign\n",
        "apostrophe_quote = apostrophe_quote.replace('o', '?')\n",
        "print(apostrophe_quote) #printing after we reassign"
      ],
      "execution_count": null,
      "outputs": []
    },
    {
      "cell_type": "markdown",
      "metadata": {
        "id": "N7b9gK7XU74K"
      },
      "source": [
        "## Numbers\n",
        "\n",
        "- If we have a number value, there are _other_ specific operators that we can use to manipulate it.\n",
        "- We'll take a look at some mathematical operators below.\n",
        "- For a more comprehensive list, check out _this_ [reference](https://www.digitalocean.com/community/tutorials/how-to-do-math-in-python-3-with-operators)."
      ]
    },
    {
      "cell_type": "code",
      "metadata": {
        "id": "Ou5JA_GK4Ewf"
      },
      "source": [
        "# We can do some basic arithmetic\n",
        "x = 9\n",
        "y = 2\n",
        "\n",
        "print('Sum:', x + y)\n",
        "print('Difference:', x - y)\n",
        "print('Product:', x * y)\n",
        "print('Quotient:', x / y) # Note that dividing will always return a float"
      ],
      "execution_count": null,
      "outputs": []
    },
    {
      "cell_type": "code",
      "metadata": {
        "id": "HmuiLBPc7HFD"
      },
      "source": [
        "# We can also work with exponents and remainders\n",
        "\n",
        "print('x to the power of y:', x ** y)\n",
        "print('Remainder of x divided by y:', x % y)"
      ],
      "execution_count": null,
      "outputs": []
    },
    {
      "cell_type": "code",
      "metadata": {
        "id": "pxoPwv9l0ufL"
      },
      "source": [
        "# Compound operators \n",
        "# update variable state\n",
        "\n",
        "print('Without compound operators')\n",
        "original = 5\n",
        "print(original)\n",
        "original = 3\n",
        "print(original)\n",
        "original = 2\n",
        "print(original)\n",
        "\n",
        "print('With compound operators')\n",
        "original = 5\n",
        "print(original)\n",
        "original += 3\n",
        "print(original)\n",
        "original *= 2\n",
        "print(original)"
      ],
      "execution_count": null,
      "outputs": []
    },
    {
      "cell_type": "markdown",
      "metadata": {
        "id": "ak78QcvPZoNm"
      },
      "source": [
        "## Data Structures\n",
        "\n",
        "Today we will be looking at **Lists** and **Dictionaries**. There are many Data Structures in Python to explore. You can check out this [Documentation](https://docs.python.org/3/tutorial/datastructures.html) to learn more."
      ]
    },
    {
      "cell_type": "markdown",
      "metadata": {
        "id": "agC7i1jsZ5g-"
      },
      "source": [
        "### Lists\n",
        "\n",
        "- Lists are used to store a collection of data in an ordered sequence.\n",
        "- List items can be of different data types.\n",
        "- To create a list, we use square brackets `[]` and fill the brackets with items in the list separated by commas.\n",
        "\n",
        "> *Let's create a list called `pizza_toppings` and fill it with strings of our favorite ingredients:*"
      ]
    },
    {
      "cell_type": "code",
      "metadata": {
        "id": "n9Qr78UhLtQv"
      },
      "source": [
        "pizza_toppings = ['pepperoni', 'pineapple', 'extra cheese']\n",
        "print(pizza_toppings)"
      ],
      "execution_count": null,
      "outputs": []
    },
    {
      "cell_type": "code",
      "metadata": {
        "id": "D556faD_2kxd"
      },
      "source": [
        "# Checking the type\n",
        "type(pizza_toppings)"
      ],
      "execution_count": null,
      "outputs": []
    },
    {
      "cell_type": "markdown",
      "metadata": {
        "id": "5lddZlrSMt9X"
      },
      "source": [
        "**Accessing and Updating Lists**\n",
        "- List contents are accessed by index using bracket notation `[]` — you can access an item in a list by asking for the item in a given position.\n",
        "- We can also use bracket notation to reassign or update items in a list.\n",
        "- Accessing multiple items in a list is called slicing — we do this using bracket notation and two indices separated by a colon `:`.\n",
        "\n",
        "> _Let's take a look at some examples of each of those below:_"
      ]
    },
    {
      "cell_type": "code",
      "metadata": {
        "id": "J8MEh-QwMudA"
      },
      "source": [
        "# Getting the first element in a list\n",
        "pizza_toppings[0]"
      ],
      "execution_count": null,
      "outputs": []
    },
    {
      "cell_type": "code",
      "metadata": {
        "id": "qgi3U4RS4WYl"
      },
      "source": [
        "# Upgrading 'pineapple' to topping of your choice\n",
        "pizza_toppings[1] = '***EDIT THIS STRING***'\n",
        "pizza_toppings"
      ],
      "execution_count": null,
      "outputs": []
    },
    {
      "cell_type": "code",
      "metadata": {
        "id": "Zno1ed654qvV"
      },
      "source": [
        "# Looking at multiple items at a time\n",
        "pizza_toppings[0:2]"
      ],
      "execution_count": null,
      "outputs": []
    },
    {
      "cell_type": "code",
      "metadata": {
        "id": "ScB92vpm4w1t"
      },
      "source": [
        "# One cool little trick with slicing\n",
        "pizza_toppings[::-1]"
      ],
      "execution_count": null,
      "outputs": []
    },
    {
      "cell_type": "markdown",
      "metadata": {
        "id": "w2N0XS89lvhW"
      },
      "source": [
        "#### **List Challenge!**\n",
        "- Make a new list called `stoplight_colors`\n",
        "- Fill it with the following strings:\n",
        "  - `'Green'`\n",
        "  - `'Yellow'`\n",
        "  - `'Broken'`\n",
        "- Using indexing, update `“Broken”` to `“Red”`\n",
        "- `Print` the updated list to confirm the change"
      ]
    },
    {
      "cell_type": "code",
      "metadata": {
        "id": "Odjy4IfdlwAD"
      },
      "source": [
        "# List Challenge Code\n",
        "***ADD YOUR CODE***\n"
      ],
      "execution_count": null,
      "outputs": []
    },
    {
      "cell_type": "markdown",
      "metadata": {
        "id": "2bRQZ6u6aBlK"
      },
      "source": [
        "### Dictionaries\n",
        "\n",
        "- Dictionaries allow you to store data as an unordered collection of `key:value` pairs.\n",
        "  - Looking up or setting values by key rather than by index has different performance implications.\n",
        "  - Writing code that refers to data by name rather than by index number can be much clearer and easier to understand.\n",
        "- We create a dictionary with curly braces `{}` and fill it with `key:value` pairs, with each **pair** separated by a comma.\n",
        "\n",
        "> *Let's create a list called `groceries` and fill it with strings and quantities of some foods we might have around the house:*"
      ]
    },
    {
      "cell_type": "code",
      "metadata": {
        "id": "lmOlOoWXLwOW"
      },
      "source": [
        "groceries = {\n",
        "    'apples': 4,\n",
        "    'bananas': 6,\n",
        "    'cookies': 3\n",
        "}"
      ],
      "execution_count": null,
      "outputs": []
    },
    {
      "cell_type": "code",
      "metadata": {
        "id": "jlo2iTTA60f_"
      },
      "source": [
        "# Checking the type\n",
        "type(groceries)"
      ],
      "execution_count": null,
      "outputs": []
    },
    {
      "cell_type": "markdown",
      "metadata": {
        "id": "MP0acsxyMqrH"
      },
      "source": [
        "**Accessing and Updating Dictionaries**\n",
        "- Dictionary values are accessed using bracket notation `[]`, just like with lists and strings, except that instead of using an index number you use a key.\n",
        "- Updating the value associated with a key looks very much like assigning a value to a variable — again, we'll use bracket notation `[]` and the assignment operator `=` to accomplish this.\n",
        "  - This is also how we create new pairs in the dictionary.\n",
        "- We can also do quick membership checks using `in` and `not in`.\n",
        "\n",
        "> _Let's take a look at some examples of each of those below:_"
      ]
    },
    {
      "cell_type": "code",
      "metadata": {
        "id": "wR74ZzDqMs4C"
      },
      "source": [
        "# Checking a single value\n",
        "groceries['apples']"
      ],
      "execution_count": null,
      "outputs": []
    },
    {
      "cell_type": "code",
      "metadata": {
        "id": "SarUGoNf98As"
      },
      "source": [
        "# Updating a value\n",
        "groceries['apples'] += 4\n",
        "groceries"
      ],
      "execution_count": null,
      "outputs": []
    },
    {
      "cell_type": "code",
      "metadata": {
        "id": "fKCnlUiD-KLB"
      },
      "source": [
        "# Adding a new pair\n",
        "groceries['***EDIT THIS KEY***'] = ***EDIT THIS VALUE***\n",
        "groceries"
      ],
      "execution_count": null,
      "outputs": []
    },
    {
      "cell_type": "code",
      "metadata": {
        "id": "9KWL_Vvg-Tr9"
      },
      "source": [
        "# Checking for membership\n",
        "print('apples' in groceries)\n",
        "print('watermelons' in groceries)"
      ],
      "execution_count": null,
      "outputs": []
    },
    {
      "cell_type": "markdown",
      "metadata": {
        "id": "w90v73nDn07q"
      },
      "source": [
        "#### **Dictionary Challenge!**\n",
        "- Take our `groceries` dictionary\n",
        "- Add a new key:value pair of your choice\n",
        "- Delete the `'apples'` item from the dictionary entirely\n",
        "- Eat 2 cookies (subtract 2 cookies from the inventory)\n",
        "- Print out the dictionary to confirm the changes\n",
        "\n",
        "Hint: You can use the documentation for [`del`](https://docs.python.org/3/tutorial/datastructures.html#the-del-statement) to find the code for the 3rd bullet-point."
      ]
    },
    {
      "cell_type": "code",
      "metadata": {
        "id": "aD_Oni7Cn1QP"
      },
      "source": [
        "# Dictionary Challenge Code\n",
        "***ADD YOUR CODE***\n"
      ],
      "execution_count": null,
      "outputs": []
    },
    {
      "cell_type": "markdown",
      "metadata": {
        "id": "D0DC9pRZacLq"
      },
      "source": [
        "## Functions\n",
        "\n",
        "- Functions are going to be an integral part of your workflow as a Python programmer.\n",
        "- Functions let you write a block of organized, reusable code that is used to perform a single, related action.\n",
        "- You define that behavior once, and you can run and re-run your set of instructions whenever and as many times as you need.\n",
        "\n",
        "> _Let's start with a basic function first and move on to some more complicated ones:_"
      ]
    },
    {
      "cell_type": "code",
      "metadata": {
        "id": "BT7x_9gDZvGP"
      },
      "source": [
        "# Defining our function\n",
        "def hello(name):\n",
        "    print('Hello ' + name)\n",
        "   \n",
        "# \"Calling\" or executing our function\n",
        "hello('Sally')\n"
      ],
      "execution_count": null,
      "outputs": []
    },
    {
      "cell_type": "code",
      "metadata": {
        "id": "ijeG2v9DEGtp"
      },
      "source": [
        "# Using variables as arguments instead of explicit strings\n",
        "some_other_name = \"Guido\"\n",
        "hello(some_other_name)"
      ],
      "execution_count": null,
      "outputs": []
    },
    {
      "cell_type": "markdown",
      "metadata": {
        "id": "xA7WAazMyntf"
      },
      "source": [
        "### Difference between Calling, Printing, and Returning\n",
        "\n",
        "There are some basic differences in how **Calling** a **Variable**, **Printing** a variable and the output of a function. We'll cover some of the basics in the following code blocks."
      ]
    },
    {
      "cell_type": "code",
      "metadata": {
        "id": "2BF3tptryUx7"
      },
      "source": [
        "# We are \"Calling\" the variable quote_astrophe\n",
        "quoteastrophe"
      ],
      "execution_count": null,
      "outputs": []
    },
    {
      "cell_type": "code",
      "metadata": {
        "id": "pg9wYOwayaVD"
      },
      "source": [
        "# We are \"Printing\" the variable quote_astrophe\n",
        "print(quoteastrophe)"
      ],
      "execution_count": null,
      "outputs": []
    },
    {
      "cell_type": "markdown",
      "metadata": {
        "id": "tm_HRS6-Mn_D"
      },
      "source": [
        "> So far we've been using `print` statements within a function to print something to the console — just showing the user (us) a string representing what is going on inside the computer. The other statement that you will see and utilize is `return`.\n",
        "- `return` is the main way that a function returns a value.\n",
        "- All functions will return a value, and if there is no `return` statement it will return `None`.\n",
        "- The value that is returned by a function can then be further used as an argument passed to another function, stored as a variable, or just printed for the benefit of the human user."
      ]
    },
    {
      "cell_type": "code",
      "metadata": {
        "id": "cxYYshbPMpMn"
      },
      "source": [
        "# Examples showing the difference between `print` and `return`\n",
        "\n",
        "def function_that_prints():\n",
        "    print(\"Printer is out of ink...\")\n",
        "\n",
        "first = function_that_prints()\n",
        "\n",
        "print(\"The value of first is:\", first)\n",
        "print(first)\n"
      ],
      "execution_count": null,
      "outputs": []
    },
    {
      "cell_type": "code",
      "metadata": {
        "id": "TckJr8DJtc52"
      },
      "source": [
        "def function_that_returns():\n",
        "    return \"Return of the Function!\"\n",
        "  \n",
        "second = function_that_returns()\n",
        "\n",
        "print(\"The value of second is:\", second)\n",
        "print(second)"
      ],
      "execution_count": null,
      "outputs": []
    },
    {
      "cell_type": "markdown",
      "metadata": {
        "id": "iu00UuWgcylV"
      },
      "source": [
        "Let's build on that knowledge and look at some functions!"
      ]
    },
    {
      "cell_type": "code",
      "metadata": {
        "id": "T6exLhkPZvQD"
      },
      "source": [
        "# More Functions\n",
        "\n",
        "def far_to_cel(fahrenheit):\n",
        "    celsius = int((fahrenheit - 32) / 1.8)\n",
        "    return celsius\n",
        "\n",
        "print(far_to_cel(50))\n",
        "far_degree = 85\n",
        "print(far_to_cel(far_degree))"
      ],
      "execution_count": null,
      "outputs": []
    },
    {
      "cell_type": "code",
      "metadata": {
        "id": "FE8YeaJEZvT6"
      },
      "source": [
        "# Using Our Function\n",
        "\n",
        "winter_temp = far_to_cel(30)\n",
        "summer_temp = far_to_cel(90)\n",
        "diff_summer_winter = summer_temp - winter_temp\n",
        "print(diff_summer_winter)"
      ],
      "execution_count": null,
      "outputs": []
    },
    {
      "cell_type": "markdown",
      "metadata": {
        "id": "41CowmoRosMa"
      },
      "source": [
        "### **Function Challenge!**\n",
        "- Define a new function called `circumference`\n",
        "- It should take one argument (`radius`)\n",
        "- Given the radius provided, perform the necessary calculation and store it internally in a variable called `cir`\n",
        "- Return the resulting value\n",
        "- Call (execute) your function with a new radius!\n",
        "\n",
        "> Equation of the circumference of a circle:\n",
        "$$C = 2πr$$\n",
        "\n",
        "Hint: You can use `3.14` for the value of pi.\n",
        "If you'd like to learn how to use a more precise value, see the documentation for the [Math Module](https://docs.python.org/3/library/math.html#constants)."
      ]
    },
    {
      "cell_type": "code",
      "metadata": {
        "id": "ZvknqSD8oryC"
      },
      "source": [
        "# Function Challenge Code\n",
        "***ADD YOUR CODE***\n"
      ],
      "execution_count": null,
      "outputs": []
    },
    {
      "cell_type": "markdown",
      "metadata": {
        "id": "vbVIGzFRJbxz"
      },
      "source": [
        "## And there you have it — all of the base Python that you need to get rocking and rolling!\n",
        "- Be sure to keep practicing by changing things in this notebook and by spending 15-20 minutes on a different challenge daily — you'll be amazed at how quickly you'll improve!\n",
        "- Some great daily places to practice are [Practice Python](http://www.practicepython.org/) and [CodeWars](https://www.codewars.com/users/sign_in).\n",
        "\n",
        "## Take Home Challenge\n",
        "- If you want an additional practice challenge to work on here in the notebook, consider the following from PracticePython:\n",
        "  - Write a function that takes a list of numbers (for example, `a = [5, 10, 15, 20, 25]`) and makes a new list of only the first and last elements of the given list.\n",
        "  - We'll start the code for you below:"
      ]
    },
    {
      "cell_type": "code",
      "metadata": {
        "id": "ELAQwh5hiKqY"
      },
      "source": [
        "def list_ends(series):\n",
        "  # Your code goes here"
      ],
      "execution_count": null,
      "outputs": []
    },
    {
      "cell_type": "markdown",
      "metadata": {
        "id": "qv9ER8innCJD"
      },
      "source": [
        "# Keep Learning with Thinkful\n",
        "If you enjoyed today's session and want to take a deeper dive into many of the topics that we covered today like Pandas, SQL, predictive modeling, visualizing your data, and so much more, we'd love to have you join us again!\n",
        "- Check out more of our webinars at [Thinkful Webinars](https://www.thinkful.com/webinars/)\n",
        "- Learn more about the [Data Science Flex Course](https://www.thinkful.com/bootcamp/data-science/flexible/)"
      ]
    }
  ]
}